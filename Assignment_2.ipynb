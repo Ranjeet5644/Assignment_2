{
 "cells": [
  {
   "cell_type": "markdown",
   "id": "9b844213",
   "metadata": {},
   "source": [
    "Q1."
   ]
  },
  {
   "cell_type": "markdown",
   "id": "77cc24e1",
   "metadata": {},
   "source": [
    "In Python, you can comment your code to make it more readable and to provide explanations for yourself\n",
    "There are two primary ways to comment code in Python: using single-line comments and multi-line comments.\n",
    "\n",
    "1.Single-line comments: To add a comment that spans a single line, you can use the hash symbol (#). Anything after the hash symbol on that line will be considered a comment and will not be executed by the Python interpreter.\n",
    "\n",
    "2.Multi-line comments: To add comments that span multiple lines, you can use triple quotes (\"\"\"). This is often referred to as a docstring, as it is commonly used to provide documentation for functions, classes, or modules."
   ]
  },
  {
   "cell_type": "markdown",
   "id": "78659852",
   "metadata": {},
   "source": [
    "Q2."
   ]
  },
  {
   "cell_type": "code",
   "execution_count": null,
   "id": "992ec490",
   "metadata": {},
   "outputs": [],
   "source": [
    "In Python, variables are used to store and manipulate data. They act as named containers that hold values of different types, such as numbers, strings, lists, or objects. Variables allow you to store data temporarily or permanently in your program.\n",
    "To declare and assign values to variables in Python:\n",
    "Declaration: In Python, you don't need to explicitly declare variables or specify their data types before assigning values to them.You simply choose a name for your variable and start using it. \n",
    "Example : \n",
    "m = \"Hello, world!\"\n",
    "c = 10\n",
    "pi = 3.14\n",
    "\n",
    "Assignment: To assign a value to a variable, use the assignment operator (=). The value on the right side of the operator is assigned to the variable on the left side. For example:\n",
    "        \n",
    "m = \"Hello, world!\"\n",
    "c = 10\n",
    "pi = 3.14"
   ]
  },
  {
   "cell_type": "markdown",
   "id": "67f8bf38",
   "metadata": {},
   "source": [
    "Q3."
   ]
  },
  {
   "cell_type": "code",
   "execution_count": null,
   "id": "fa2497ee",
   "metadata": {},
   "outputs": [],
   "source": [
    " you can convert one data type to another using type conversion functions or constructors specific to each data type\n",
    " 1.Integer conversion: To convert a value to an integer, you can use the int() function. It can convert numeric strings or floating-point numbers to integers by truncating the decimal part\n",
    " num_str = \"10\"\n",
    " num_int = int(num_str)  # Converts \"10\" to an integer\n",
    " print(num_int)  # Output: 10\n",
    "\n",
    " float_num = 3.14\n",
    " int_num = int(float_num)  # Converts 3.14 to an integer (truncates the decimal)\n",
    " print(int_num)  # Output: 3\n",
    "    \n",
    " 2.Float conversion: To convert a value to a float, you can use the float() function. It converts numeric strings or integers to floating-point numbers. For example:\n",
    " python\n",
    "   \n",
    " num_str = \"3.14\"\n",
    " num_float = float(num_str)  # Converts \"3.14\" to a float\n",
    " print(num_float)  # Output: 3.14\n",
    "\n",
    " int_num = 10\n",
    " float_num = float(int_num)  # Converts 10 to a float\n",
    " print(float_num)  # Output: 10.0\n",
    " \n",
    " 3.String conversion: To convert a value to a string, you can use the str() function. It converts values of different types to their string representation\n",
    " \n",
    " num_int = 10\n",
    " num_str = str(num_int)  # Converts 10 to a string\n",
    " print(num_str)  # Output: \"10\"\n",
    "\n",
    " pi = 3.14\n",
    " pi_str = str(pi)  # Converts 3.14 to a string\n",
    " print(pi_str)  # Output: \"3.14\"\n",
    " \n",
    " 4.List conversion: To convert other data types, such as strings or tuples, to a list, you can use the list() constructor. It converts iterable objects to a list.   \n",
    " \n",
    " str_var = \"Hello\"\n",
    " list_var = list(str_var)  # Converts \"Hello\" to a list\n",
    " print(list_var)  # Output: ['H', 'e', 'l', 'l', 'o']\n",
    "\n",
    " tuple_var = (1, 2, 3)\n",
    " list_var = list(tuple_var)  # Converts (1, 2, 3) to a list\n",
    " print(list_var)  # Output: [1, 2, 3]\n",
    "\n",
    "   \n",
    "    "
   ]
  },
  {
   "cell_type": "markdown",
   "id": "3535292d",
   "metadata": {},
   "source": [
    "Q4."
   ]
  },
  {
   "cell_type": "markdown",
   "id": "87f214ed",
   "metadata": {},
   "source": [
    "To write and execute a Python script from the command line, you can follow these steps:\n",
    "\n",
    "1.Open a text editor: Open a text editor of your choice, such as Notepad, Sublime Text, or Visual Studio Code. This is where you will write your Python code.\n",
    "\n",
    "2.Write the Python code: In the text editor, write your Python code. For example, let's create a simple script that prints \"Hello, World!\":\n",
    "    \n",
    "print(\"Hello, World!\")\n",
    "\n",
    "3.Save the file: Save the file with a .py extension, such as hello.py. Choose a meaningful name for your script.\n",
    "\n",
    "4.Open the command line interface: Open the command line interface on your operating system. On Windows, you can use the Command Prompt or PowerShell. On macOS or Linux, you can use the Terminal.\n",
    "\n",
    "5.Navigate to the directory: Use the cd command in the command line interface to navigate to the directory where your Python script is saved. For example, if your script is saved in the Documents folder, use the following command:\n",
    "        \n",
    "   \n",
    "cd Documents\n",
    "\n",
    "Execute the Python script: To execute the Python script, use the python command followed by the name of your script file. For example\n",
    "    \n",
    "    \n",
    "python hello.py\n",
    "    \n",
    "     \n",
    "  \n"
   ]
  },
  {
   "cell_type": "markdown",
   "id": "34bcc26a",
   "metadata": {},
   "source": [
    "Q5"
   ]
  },
  {
   "cell_type": "code",
   "execution_count": 6,
   "id": "91729afb",
   "metadata": {},
   "outputs": [],
   "source": [
    " my_list = [1,2,3,4,5]"
   ]
  },
  {
   "cell_type": "code",
   "execution_count": 7,
   "id": "f9054904",
   "metadata": {},
   "outputs": [
    {
     "data": {
      "text/plain": [
       "[1, 2, 3, 4, 5]"
      ]
     },
     "execution_count": 7,
     "metadata": {},
     "output_type": "execute_result"
    }
   ],
   "source": [
    " my_list"
   ]
  },
  {
   "cell_type": "code",
   "execution_count": 9,
   "id": "00d9bbdf",
   "metadata": {},
   "outputs": [
    {
     "data": {
      "text/plain": [
       "[2, 3]"
      ]
     },
     "execution_count": 9,
     "metadata": {},
     "output_type": "execute_result"
    }
   ],
   "source": [
    " my_list[1:3]"
   ]
  },
  {
   "cell_type": "markdown",
   "id": "89d6b90d",
   "metadata": {},
   "source": [
    "Q6"
   ]
  },
  {
   "cell_type": "code",
   "execution_count": null,
   "id": "d6c1b964",
   "metadata": {},
   "outputs": [],
   "source": [
    "In mathematics, a complex number is a number that consists of both a real part and an imaginary part. It is expressed in the form a + bi, where a represents the real part, b represents the imaginary part, and i represents the imaginary unit (√(-1)).\n",
    "\n",
    "In Python, complex numbers are supported as a built-in data type. They are represented by using the j or J suffix to denote the imaginary part. The real and imaginary parts can be integers, floats, or even other complex numbers.\n",
    "\n",
    "represent\n",
    "\n",
    "num1 = 2 + 3j\n",
    "num2 = 4 - 2j\n",
    "num3 = -1.5 + 0.5j\n",
    "\n",
    "In the above code, num1 is a complex number with a real part of 2 and an imaginary part of 3, num2 has a real part of 4 and an imaginary part of -2, and num3 has a real part of -1.5 and an imaginary part of 0.5.\n",
    "\n",
    " "
   ]
  },
  {
   "cell_type": "markdown",
   "id": "a09d2fa6",
   "metadata": {},
   "source": [
    "Q7"
   ]
  },
  {
   "cell_type": "code",
   "execution_count": 10,
   "id": "c2a75ca4",
   "metadata": {},
   "outputs": [],
   "source": [
    "age = 25"
   ]
  },
  {
   "cell_type": "code",
   "execution_count": 11,
   "id": "ceda59ee",
   "metadata": {},
   "outputs": [
    {
     "data": {
      "text/plain": [
       "25"
      ]
     },
     "execution_count": 11,
     "metadata": {},
     "output_type": "execute_result"
    }
   ],
   "source": [
    "age"
   ]
  },
  {
   "cell_type": "markdown",
   "id": "97ebe372",
   "metadata": {},
   "source": [
    "Q8."
   ]
  },
  {
   "cell_type": "code",
   "execution_count": 12,
   "id": "c54ce550",
   "metadata": {},
   "outputs": [],
   "source": [
    "price = 9.99"
   ]
  },
  {
   "cell_type": "code",
   "execution_count": 13,
   "id": "cd46b71a",
   "metadata": {},
   "outputs": [
    {
     "data": {
      "text/plain": [
       "9.99"
      ]
     },
     "execution_count": 13,
     "metadata": {},
     "output_type": "execute_result"
    }
   ],
   "source": [
    "price"
   ]
  },
  {
   "cell_type": "code",
   "execution_count": 14,
   "id": "71f34673",
   "metadata": {},
   "outputs": [
    {
     "data": {
      "text/plain": [
       "float"
      ]
     },
     "execution_count": 14,
     "metadata": {},
     "output_type": "execute_result"
    }
   ],
   "source": [
    "type(price)"
   ]
  },
  {
   "cell_type": "markdown",
   "id": "32bffaa2",
   "metadata": {},
   "source": [
    "Q9."
   ]
  },
  {
   "cell_type": "code",
   "execution_count": 15,
   "id": "d29ef66e",
   "metadata": {},
   "outputs": [],
   "source": [
    "Name = \"Ranjeet Kumar Yadav\""
   ]
  },
  {
   "cell_type": "code",
   "execution_count": 16,
   "id": "096de742",
   "metadata": {},
   "outputs": [
    {
     "data": {
      "text/plain": [
       "'Ranjeet Kumar Yadav'"
      ]
     },
     "execution_count": 16,
     "metadata": {},
     "output_type": "execute_result"
    }
   ],
   "source": [
    "Name"
   ]
  },
  {
   "cell_type": "markdown",
   "id": "d862cd1c",
   "metadata": {},
   "source": [
    "Q10."
   ]
  },
  {
   "cell_type": "code",
   "execution_count": 17,
   "id": "47a8e4b0",
   "metadata": {},
   "outputs": [],
   "source": [
    "s = \"Hello,World!\""
   ]
  },
  {
   "cell_type": "code",
   "execution_count": 20,
   "id": "5f894b1c",
   "metadata": {},
   "outputs": [
    {
     "data": {
      "text/plain": [
       "'World'"
      ]
     },
     "execution_count": 20,
     "metadata": {},
     "output_type": "execute_result"
    }
   ],
   "source": [
    "s[6:11]"
   ]
  },
  {
   "cell_type": "markdown",
   "id": "febc5479",
   "metadata": {},
   "source": [
    "Q11."
   ]
  },
  {
   "cell_type": "code",
   "execution_count": 21,
   "id": "d5490a0c",
   "metadata": {},
   "outputs": [],
   "source": [
    "is_student = True"
   ]
  },
  {
   "cell_type": "code",
   "execution_count": 22,
   "id": "d3811e16",
   "metadata": {},
   "outputs": [
    {
     "data": {
      "text/plain": [
       "True"
      ]
     },
     "execution_count": 22,
     "metadata": {},
     "output_type": "execute_result"
    }
   ],
   "source": [
    "is_student"
   ]
  },
  {
   "cell_type": "markdown",
   "id": "a786bd46",
   "metadata": {},
   "source": [
    "The above code, the variable \"is_student\" is assigned the boolean value True, indicating that you are currently a student. If you are not a student, you can assign the value False instead."
   ]
  },
  {
   "cell_type": "code",
   "execution_count": null,
   "id": "5d914d89",
   "metadata": {},
   "outputs": [],
   "source": []
  }
 ],
 "metadata": {
  "kernelspec": {
   "display_name": "Python 3 (ipykernel)",
   "language": "python",
   "name": "python3"
  },
  "language_info": {
   "codemirror_mode": {
    "name": "ipython",
    "version": 3
   },
   "file_extension": ".py",
   "mimetype": "text/x-python",
   "name": "python",
   "nbconvert_exporter": "python",
   "pygments_lexer": "ipython3",
   "version": "3.11.3"
  }
 },
 "nbformat": 4,
 "nbformat_minor": 5
}
